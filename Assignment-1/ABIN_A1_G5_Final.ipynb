{
  "nbformat": 4,
  "nbformat_minor": 0,
  "metadata": {
    "colab": {
      "provenance": []
    },
    "kernelspec": {
      "name": "python3",
      "display_name": "Python 3"
    },
    "language_info": {
      "name": "python"
    }
  },
  "cells": [
    {
      "cell_type": "markdown",
      "source": [
        "**Group-5**\n",
        "\n",
        "1) Ritwik Kashyap 2021485\n",
        "\n",
        "2) Tanishq Tiwari 2021496\n",
        "\n",
        "3) Tanuj Kamboj  2021497"
      ],
      "metadata": {
        "id": "EanlmtNHLgba"
      }
    },
    {
      "cell_type": "markdown",
      "source": [
        "Question 1 (5 points)\n",
        "Take a string of 10 nucleotides as input. Write a code to produce all possible strings with 0 or 1 or\n",
        "2 mutations. Use these new strings for constructing a consensus string. Find the Hamming distance\n",
        "between the starting string and the consensus string. Also, write down the formula for the number of\n",
        "strings with 0, 1, 2 mutations."
      ],
      "metadata": {
        "id": "p93ZwQiiLQMR"
      }
    },
    {
      "cell_type": "markdown",
      "source": [
        "STEP 1:\n",
        "we have to find the strings with 0 , 1 and 2 mutations\n",
        ">\n",
        "for 0 mutations the mutated string is same as original sequence\n",
        ">\n",
        "for 1 mutation each nucleotide of the original sequence is replaced by the the other three combinations of nucleotides to make a new mutated sequence\n",
        ">\n",
        "for 2 mutations we will take all possibe pairs of 2 nucleotides and replace them with the other 2 remaining nucleotides in all possible way\n",
        "\n"
      ],
      "metadata": {
        "id": "r9BERWEYYgoO"
      }
    },
    {
      "cell_type": "code",
      "execution_count": null,
      "metadata": {
        "id": "5GRz3YU9K-fx",
        "colab": {
          "base_uri": "https://localhost:8080/"
        },
        "outputId": "6e1a46fd-1f41-4055-b84c-5e73ae63ba28"
      },
      "outputs": [
        {
          "output_type": "stream",
          "name": "stdout",
          "text": [
            "Enter a string : ATGC\n",
            "strings with 0 mutations :  1   ['ATGC']\n",
            "strings with 1 mutations :  13   ['ATGC', 'TTGC', 'GTGC', 'CTGC', 'AAGC', 'AGGC', 'ACGC', 'ATAC', 'ATTC', 'ATCC', 'ATGA', 'ATGT', 'ATGG']\n",
            "strings with 2 mutations :  67   ['ATGC', 'TTGC', 'GTGC', 'CTGC', 'AAGC', 'AGGC', 'ACGC', 'ATAC', 'ATTC', 'ATCC', 'ATGA', 'ATGT', 'ATGG', 'TAGC', 'TGGC', 'TCGC', 'GAGC', 'GGGC', 'GCGC', 'CAGC', 'CGGC', 'CCGC', 'TTAC', 'TTTC', 'TTCC', 'GTAC', 'GTTC', 'GTCC', 'CTAC', 'CTTC', 'CTCC', 'TTGA', 'TTGT', 'TTGG', 'GTGA', 'GTGT', 'GTGG', 'CTGA', 'CTGT', 'CTGG', 'AAAC', 'AATC', 'AACC', 'AGAC', 'AGTC', 'AGCC', 'ACAC', 'ACTC', 'ACCC', 'AAGA', 'AAGT', 'AAGG', 'AGGA', 'AGGT', 'AGGG', 'ACGA', 'ACGT', 'ACGG', 'ATAA', 'ATAT', 'ATAG', 'ATTA', 'ATTT', 'ATTG', 'ATCA', 'ATCT', 'ATCG']\n"
          ]
        }
      ],
      "source": [
        "\n",
        "# here are the formulas for calculating the number of mutated strings mathematically\n",
        "\n",
        "original_sequence = input(\"Enter a string : \")\n",
        "nucleotides = ['A' , 'T' , 'G' , 'C']\n",
        "mutated_sequences = []\n",
        "mutated_sequences.append(original_sequence) # for 0 mutations\n",
        "\n",
        "print(\"strings with 0 mutations : \" , len(mutated_sequences) , \" \" , mutated_sequences)\n",
        "\n",
        "# n: The length of the original sequence (number of positions).\n",
        "# N: The total number of nucleotides (4 for DNA: A, T, G, C).\n",
        "# Number of Strings with 1 Mutation:\n",
        "# Formula: n * (N - 1)   =  n*3 =   30 for original sequence of length 10\n",
        "\n",
        "for i in range(len(original_sequence)):   # for 1 mutation\n",
        "  for j in nucleotides:\n",
        "    if(j == original_sequence[i]):\n",
        "      continue\n",
        "    temp = list(original_sequence)\n",
        "    temp[i] = j\n",
        "    mutated_sequences.append(\"\".join(temp))\n",
        "\n",
        "print(\"strings with 1 mutations : \" , len(mutated_sequences) , \" \" , mutated_sequences)\n",
        "\n",
        "# 10c2*3*3 = 45x9 = 405 possible strings for original sequence of length 10\n",
        "\n",
        "for i in range(len(original_sequence)):  # for 2 mutations\n",
        "    for j in range(i + 1, len(original_sequence)):\n",
        "        for nucleotide1 in nucleotides:\n",
        "            for nucleotide2 in nucleotides:\n",
        "                if(nucleotide1 != original_sequence[i] and nucleotide2 != original_sequence[j]):\n",
        "                  temp = list(original_sequence)\n",
        "                  temp[i] = nucleotide1\n",
        "                  temp[j] = nucleotide2\n",
        "                  mutated_sequences.append(\"\".join(temp))\n",
        "\n",
        "\n",
        "print(\"strings with 2 mutations : \" , len(mutated_sequences) , \" \" , mutated_sequences)\n"
      ]
    },
    {
      "cell_type": "code",
      "source": [
        "# Step 2: Now We will find consensus string of the all the mutated sequence\n",
        "\n",
        "consensus_sequence = \"\"\n",
        "for i in range(len(original_sequence)): #\n",
        "  count_A = 0\n",
        "  count_T = 0\n",
        "  count_G = 0\n",
        "  count_C = 0\n",
        "  for j in mutated_sequences:\n",
        "    if j[i] == 'A':\n",
        "        count_A += 1\n",
        "    elif j[i] == 'T':\n",
        "        count_T += 1\n",
        "    elif j[i] == 'G':\n",
        "        count_G += 1\n",
        "    elif j[i] == 'C':\n",
        "        count_C += 1\n",
        "\n",
        "  max_nucleotide = 'A'\n",
        "  max = count_A\n",
        "  if count_T > max:\n",
        "      max_nucleotide = 'T'\n",
        "      max = count_T\n",
        "  if count_G > max:\n",
        "      max_nucleotide = 'G'\n",
        "      max = count_G\n",
        "  if count_C > max:\n",
        "      max_nucleotide = 'C'\n",
        "\n",
        "  print(f\"position {i+1} : {count_A} , {count_T} , {count_G} , {count_C}\")\n",
        "\n",
        "  consensus_sequence += max_nucleotide\n",
        "\n",
        "print(\"Consensus Sequence:\", consensus_sequence)\n",
        "\n"
      ],
      "metadata": {
        "colab": {
          "base_uri": "https://localhost:8080/"
        },
        "id": "pVbCsEbWsHeF",
        "outputId": "89956c5e-1696-4a65-b784-aafbf0b7b763"
      },
      "execution_count": null,
      "outputs": [
        {
          "output_type": "stream",
          "name": "stdout",
          "text": [
            "position 1 : 37 , 10 , 10 , 10\n",
            "position 2 : 10 , 37 , 10 , 10\n",
            "position 3 : 10 , 10 , 37 , 10\n",
            "position 4 : 10 , 10 , 10 , 37\n",
            "Consensus Sequence: ATGC\n"
          ]
        }
      ]
    },
    {
      "cell_type": "code",
      "source": [
        "#Step 3: calculating hamming distance\n",
        "if len(original_sequence) != len(consensus_sequence):\n",
        "    print(\"Sequences are not of same length\")\n",
        "else:\n",
        "  hamming_distance = 0\n",
        "  for i in range(len(original_sequence)):\n",
        "      if original_sequence[i] != consensus_sequence[i]:\n",
        "          hamming_distance += 1\n",
        "\n",
        "  print(\"Hamming Distance:\", hamming_distance)\n"
      ],
      "metadata": {
        "colab": {
          "base_uri": "https://localhost:8080/"
        },
        "id": "dySepT6isY_Q",
        "outputId": "b16c12f3-1217-48e0-dc29-9602289d9f66"
      },
      "execution_count": null,
      "outputs": [
        {
          "output_type": "stream",
          "name": "stdout",
          "text": [
            "Hamming Distance: 0\n"
          ]
        }
      ]
    },
    {
      "cell_type": "markdown",
      "source": [
        "Question 2 (5 points)\n",
        "Write a script to download any FASTQC file from NCBI GEO and perform the following QC checks:\n",
        "1. Read length.\n",
        "2. Number of reads.\n",
        "3. Plot nucleotide distribution across locations of the reads. State your observations about biases, if\n",
        "any."
      ],
      "metadata": {
        "id": "7rDxCKPRLaFf"
      }
    },
    {
      "cell_type": "code",
      "source": [
        "# Reference taken from : https://erilu.github.io/python-fastq-downloader/"
      ],
      "metadata": {
        "id": "cJc_eEae9yWK"
      },
      "execution_count": null,
      "outputs": []
    },
    {
      "cell_type": "code",
      "source": [
        "!sudo apt install sra-toolkit"
      ],
      "metadata": {
        "id": "9CjL4AhmEHBG"
      },
      "execution_count": null,
      "outputs": []
    },
    {
      "cell_type": "code",
      "source": [
        "!prefetch SRR390728"
      ],
      "metadata": {
        "id": "oa_kgyAVLcUQ",
        "colab": {
          "base_uri": "https://localhost:8080/"
        },
        "outputId": "97244445-87aa-4696-82bc-914a9e8a4d33"
      },
      "execution_count": 2,
      "outputs": [
        {
          "output_type": "stream",
          "name": "stdout",
          "text": [
            "\n",
            "2023-09-10T11:57:47 prefetch.2.11.3: Current preference is set to retrieve SRA Normalized Format files with full base quality scores.\n",
            "2023-09-10T11:57:48 prefetch.2.11.3: 1) Downloading 'SRR390728'...\n",
            "2023-09-10T11:57:48 prefetch.2.11.3: SRA Normalized Format file is being retrieved, if this is different from your preference, it may be due to current file availability.\n",
            "2023-09-10T11:57:48 prefetch.2.11.3:  Downloading via HTTPS...\n",
            "2023-09-10T11:58:16 prefetch.2.11.3:  HTTPS download succeed\n",
            "2023-09-10T11:58:17 prefetch.2.11.3:  'SRR390728' is valid\n",
            "2023-09-10T11:58:17 prefetch.2.11.3: 1) 'SRR390728' was downloaded successfully\n",
            "2023-09-10T11:58:39 prefetch.2.11.3: 'SRR390728' has 25 unresolved dependencies\n",
            "2023-09-10T11:58:39 prefetch.2.11.3: 2) Downloading 'ncbi-acc:GPC_000000394.1?vdb-ctx=refseq'...\n",
            "2023-09-10T11:58:39 prefetch.2.11.3:  Downloading via HTTPS...\n",
            "2023-09-10T11:58:44 prefetch.2.11.3:  HTTPS download succeed\n",
            "2023-09-10T11:58:44 prefetch.2.11.3: 2) 'ncbi-acc:GPC_000000394.1?vdb-ctx=refseq' was downloaded successfully\n",
            "2023-09-10T11:58:44 prefetch.2.11.3: 3) Downloading 'ncbi-acc:GPC_000000395.1?vdb-ctx=refseq'...\n",
            "2023-09-10T11:58:44 prefetch.2.11.3:  Downloading via HTTPS...\n",
            "2023-09-10T11:58:47 prefetch.2.11.3:  HTTPS download succeed\n",
            "2023-09-10T11:58:47 prefetch.2.11.3: 3) 'ncbi-acc:GPC_000000395.1?vdb-ctx=refseq' was downloaded successfully\n",
            "2023-09-10T11:58:47 prefetch.2.11.3: 4) Downloading 'ncbi-acc:NC_000001.9?vdb-ctx=refseq'...\n",
            "2023-09-10T11:58:47 prefetch.2.11.3:  Downloading via HTTPS...\n",
            "2023-09-10T11:58:52 prefetch.2.11.3:  HTTPS download succeed\n",
            "2023-09-10T11:58:52 prefetch.2.11.3: 4) 'ncbi-acc:NC_000001.9?vdb-ctx=refseq' was downloaded successfully\n",
            "2023-09-10T11:58:52 prefetch.2.11.3: 5) Downloading 'ncbi-acc:NC_000002.10?vdb-ctx=refseq'...\n",
            "2023-09-10T11:58:52 prefetch.2.11.3:  Downloading via HTTPS...\n",
            "2023-09-10T11:58:58 prefetch.2.11.3:  HTTPS download succeed\n",
            "2023-09-10T11:58:58 prefetch.2.11.3: 5) 'ncbi-acc:NC_000002.10?vdb-ctx=refseq' was downloaded successfully\n",
            "2023-09-10T11:58:58 prefetch.2.11.3: 6) Downloading 'ncbi-acc:NC_000003.10?vdb-ctx=refseq'...\n",
            "2023-09-10T11:58:58 prefetch.2.11.3:  Downloading via HTTPS...\n",
            "2023-09-10T11:59:04 prefetch.2.11.3:  HTTPS download succeed\n",
            "2023-09-10T11:59:04 prefetch.2.11.3: 6) 'ncbi-acc:NC_000003.10?vdb-ctx=refseq' was downloaded successfully\n",
            "2023-09-10T11:59:04 prefetch.2.11.3: 7) Downloading 'ncbi-acc:NC_000004.10?vdb-ctx=refseq'...\n",
            "2023-09-10T11:59:04 prefetch.2.11.3:  Downloading via HTTPS...\n",
            "2023-09-10T11:59:09 prefetch.2.11.3:  HTTPS download succeed\n",
            "2023-09-10T11:59:09 prefetch.2.11.3: 7) 'ncbi-acc:NC_000004.10?vdb-ctx=refseq' was downloaded successfully\n",
            "2023-09-10T11:59:09 prefetch.2.11.3: 8) Downloading 'ncbi-acc:NC_000006.10?vdb-ctx=refseq'...\n",
            "2023-09-10T11:59:09 prefetch.2.11.3:  Downloading via HTTPS...\n",
            "2023-09-10T11:59:14 prefetch.2.11.3:  HTTPS download succeed\n",
            "2023-09-10T11:59:14 prefetch.2.11.3: 8) 'ncbi-acc:NC_000006.10?vdb-ctx=refseq' was downloaded successfully\n",
            "2023-09-10T11:59:14 prefetch.2.11.3: 9) Downloading 'ncbi-acc:NC_000007.12?vdb-ctx=refseq'...\n",
            "2023-09-10T11:59:14 prefetch.2.11.3:  Downloading via HTTPS...\n",
            "2023-09-10T11:59:19 prefetch.2.11.3:  HTTPS download succeed\n",
            "2023-09-10T11:59:19 prefetch.2.11.3: 9) 'ncbi-acc:NC_000007.12?vdb-ctx=refseq' was downloaded successfully\n",
            "2023-09-10T11:59:19 prefetch.2.11.3: 10) Downloading 'ncbi-acc:NC_000008.9?vdb-ctx=refseq'...\n",
            "2023-09-10T11:59:19 prefetch.2.11.3:  Downloading via HTTPS...\n",
            "2023-09-10T11:59:23 prefetch.2.11.3:  HTTPS download succeed\n",
            "2023-09-10T11:59:23 prefetch.2.11.3: 10) 'ncbi-acc:NC_000008.9?vdb-ctx=refseq' was downloaded successfully\n",
            "2023-09-10T11:59:23 prefetch.2.11.3: 11) Downloading 'ncbi-acc:NC_000009.10?vdb-ctx=refseq'...\n",
            "2023-09-10T11:59:23 prefetch.2.11.3:  Downloading via HTTPS...\n",
            "2023-09-10T11:59:27 prefetch.2.11.3:  HTTPS download succeed\n",
            "2023-09-10T11:59:27 prefetch.2.11.3: 11) 'ncbi-acc:NC_000009.10?vdb-ctx=refseq' was downloaded successfully\n",
            "2023-09-10T11:59:27 prefetch.2.11.3: 12) Downloading 'ncbi-acc:NC_000010.9?vdb-ctx=refseq'...\n",
            "2023-09-10T11:59:27 prefetch.2.11.3:  Downloading via HTTPS...\n",
            "2023-09-10T11:59:31 prefetch.2.11.3:  HTTPS download succeed\n",
            "2023-09-10T11:59:31 prefetch.2.11.3: 12) 'ncbi-acc:NC_000010.9?vdb-ctx=refseq' was downloaded successfully\n",
            "2023-09-10T11:59:31 prefetch.2.11.3: 13) Downloading 'ncbi-acc:NC_000011.8?vdb-ctx=refseq'...\n",
            "2023-09-10T11:59:31 prefetch.2.11.3:  Downloading via HTTPS...\n",
            "2023-09-10T11:59:35 prefetch.2.11.3:  HTTPS download succeed\n",
            "2023-09-10T11:59:35 prefetch.2.11.3: 13) 'ncbi-acc:NC_000011.8?vdb-ctx=refseq' was downloaded successfully\n",
            "2023-09-10T11:59:35 prefetch.2.11.3: 14) Downloading 'ncbi-acc:NC_000012.10?vdb-ctx=refseq'...\n",
            "2023-09-10T11:59:35 prefetch.2.11.3:  Downloading via HTTPS...\n",
            "2023-09-10T11:59:39 prefetch.2.11.3:  HTTPS download succeed\n",
            "2023-09-10T11:59:39 prefetch.2.11.3: 14) 'ncbi-acc:NC_000012.10?vdb-ctx=refseq' was downloaded successfully\n",
            "2023-09-10T11:59:39 prefetch.2.11.3: 15) Downloading 'ncbi-acc:NC_000013.9?vdb-ctx=refseq'...\n",
            "2023-09-10T11:59:39 prefetch.2.11.3:  Downloading via HTTPS...\n",
            "2023-09-10T11:59:43 prefetch.2.11.3:  HTTPS download succeed\n",
            "2023-09-10T11:59:43 prefetch.2.11.3: 15) 'ncbi-acc:NC_000013.9?vdb-ctx=refseq' was downloaded successfully\n",
            "2023-09-10T11:59:43 prefetch.2.11.3: 16) Downloading 'ncbi-acc:NC_000014.7?vdb-ctx=refseq'...\n",
            "2023-09-10T11:59:43 prefetch.2.11.3:  Downloading via HTTPS...\n",
            "2023-09-10T11:59:47 prefetch.2.11.3:  HTTPS download succeed\n",
            "2023-09-10T11:59:47 prefetch.2.11.3: 16) 'ncbi-acc:NC_000014.7?vdb-ctx=refseq' was downloaded successfully\n",
            "2023-09-10T11:59:47 prefetch.2.11.3: 17) Downloading 'ncbi-acc:NC_000015.8?vdb-ctx=refseq'...\n",
            "2023-09-10T11:59:47 prefetch.2.11.3:  Downloading via HTTPS...\n",
            "2023-09-10T11:59:50 prefetch.2.11.3:  HTTPS download succeed\n",
            "2023-09-10T11:59:50 prefetch.2.11.3: 17) 'ncbi-acc:NC_000015.8?vdb-ctx=refseq' was downloaded successfully\n",
            "2023-09-10T11:59:50 prefetch.2.11.3: 18) Downloading 'ncbi-acc:NC_000016.8?vdb-ctx=refseq'...\n",
            "2023-09-10T11:59:50 prefetch.2.11.3:  Downloading via HTTPS...\n",
            "2023-09-10T11:59:53 prefetch.2.11.3:  HTTPS download succeed\n",
            "2023-09-10T11:59:53 prefetch.2.11.3: 18) 'ncbi-acc:NC_000016.8?vdb-ctx=refseq' was downloaded successfully\n",
            "2023-09-10T11:59:53 prefetch.2.11.3: 19) Downloading 'ncbi-acc:NC_000017.9?vdb-ctx=refseq'...\n",
            "2023-09-10T11:59:53 prefetch.2.11.3:  Downloading via HTTPS...\n",
            "2023-09-10T11:59:56 prefetch.2.11.3:  HTTPS download succeed\n",
            "2023-09-10T11:59:56 prefetch.2.11.3: 19) 'ncbi-acc:NC_000017.9?vdb-ctx=refseq' was downloaded successfully\n",
            "2023-09-10T11:59:56 prefetch.2.11.3: 20) Downloading 'ncbi-acc:NC_000018.8?vdb-ctx=refseq'...\n",
            "2023-09-10T11:59:56 prefetch.2.11.3:  Downloading via HTTPS...\n",
            "2023-09-10T11:59:59 prefetch.2.11.3:  HTTPS download succeed\n",
            "2023-09-10T11:59:59 prefetch.2.11.3: 20) 'ncbi-acc:NC_000018.8?vdb-ctx=refseq' was downloaded successfully\n",
            "2023-09-10T11:59:59 prefetch.2.11.3: 21) Downloading 'ncbi-acc:NC_000019.8?vdb-ctx=refseq'...\n",
            "2023-09-10T11:59:59 prefetch.2.11.3:  Downloading via HTTPS...\n",
            "2023-09-10T12:00:03 prefetch.2.11.3:  HTTPS download succeed\n",
            "2023-09-10T12:00:03 prefetch.2.11.3: 21) 'ncbi-acc:NC_000019.8?vdb-ctx=refseq' was downloaded successfully\n",
            "2023-09-10T12:00:03 prefetch.2.11.3: 22) Downloading 'ncbi-acc:NC_000020.9?vdb-ctx=refseq'...\n",
            "2023-09-10T12:00:03 prefetch.2.11.3:  Downloading via HTTPS...\n",
            "2023-09-10T12:00:06 prefetch.2.11.3:  HTTPS download succeed\n",
            "2023-09-10T12:00:06 prefetch.2.11.3: 22) 'ncbi-acc:NC_000020.9?vdb-ctx=refseq' was downloaded successfully\n",
            "2023-09-10T12:00:06 prefetch.2.11.3: 23) Downloading 'ncbi-acc:NC_000021.7?vdb-ctx=refseq'...\n",
            "2023-09-10T12:00:06 prefetch.2.11.3:  Downloading via HTTPS...\n",
            "2023-09-10T12:00:08 prefetch.2.11.3:  HTTPS download succeed\n",
            "2023-09-10T12:00:08 prefetch.2.11.3: 23) 'ncbi-acc:NC_000021.7?vdb-ctx=refseq' was downloaded successfully\n",
            "2023-09-10T12:00:08 prefetch.2.11.3: 24) Downloading 'ncbi-acc:NC_000022.9?vdb-ctx=refseq'...\n",
            "2023-09-10T12:00:08 prefetch.2.11.3:  Downloading via HTTPS...\n",
            "2023-09-10T12:00:10 prefetch.2.11.3:  HTTPS download succeed\n",
            "2023-09-10T12:00:10 prefetch.2.11.3: 24) 'ncbi-acc:NC_000022.9?vdb-ctx=refseq' was downloaded successfully\n",
            "2023-09-10T12:00:10 prefetch.2.11.3: 25) Downloading 'ncbi-acc:NC_000023.9?vdb-ctx=refseq'...\n",
            "2023-09-10T12:00:10 prefetch.2.11.3:  Downloading via HTTPS...\n",
            "2023-09-10T12:00:15 prefetch.2.11.3:  HTTPS download succeed\n",
            "2023-09-10T12:00:15 prefetch.2.11.3: 25) 'ncbi-acc:NC_000023.9?vdb-ctx=refseq' was downloaded successfully\n",
            "2023-09-10T12:00:15 prefetch.2.11.3: 26) Downloading 'ncbi-acc:NC_001807.4?vdb-ctx=refseq'...\n",
            "2023-09-10T12:00:15 prefetch.2.11.3:  Downloading via HTTPS...\n",
            "2023-09-10T12:00:16 prefetch.2.11.3:  HTTPS download succeed\n",
            "2023-09-10T12:00:16 prefetch.2.11.3: 26) 'ncbi-acc:NC_001807.4?vdb-ctx=refseq' was downloaded successfully\n"
          ]
        }
      ]
    },
    {
      "cell_type": "code",
      "source": [
        "!cd SRR390728/\n",
        "!ls SRR390728/"
      ],
      "metadata": {
        "colab": {
          "base_uri": "https://localhost:8080/"
        },
        "id": "TX5ibnewFzv3",
        "outputId": "52d433a7-f0b0-493f-c066-b1c0fd434bf3"
      },
      "execution_count": 3,
      "outputs": [
        {
          "output_type": "stream",
          "name": "stdout",
          "text": [
            "GPC_000000394.1  NC_000006.10  NC_000012.10  NC_000018.8  NC_001807.4\n",
            "GPC_000000395.1  NC_000007.12  NC_000013.9   NC_000019.8  SRR390728.sra\n",
            "NC_000001.9\t NC_000008.9   NC_000014.7   NC_000020.9\n",
            "NC_000002.10\t NC_000009.10  NC_000015.8   NC_000021.7\n",
            "NC_000003.10\t NC_000010.9   NC_000016.8   NC_000022.9\n",
            "NC_000004.10\t NC_000011.8   NC_000017.9   NC_000023.9\n"
          ]
        }
      ]
    },
    {
      "cell_type": "code",
      "source": [
        "!ls"
      ],
      "metadata": {
        "colab": {
          "base_uri": "https://localhost:8080/"
        },
        "id": "Cv0XVmfuGqSD",
        "outputId": "bc8b0b9b-77b6-4bf8-d189-fa8b3ace2545"
      },
      "execution_count": 4,
      "outputs": [
        {
          "output_type": "stream",
          "name": "stdout",
          "text": [
            "sample_data  SRR390728\n"
          ]
        }
      ]
    },
    {
      "cell_type": "code",
      "source": [
        "!fastq-dump --outdir fastq --gzip --skip-technical  --readids --read-filter pass --dumpbase --split-3 --clip SRR390728/SRR390728.sra"
      ],
      "metadata": {
        "colab": {
          "base_uri": "https://localhost:8080/"
        },
        "id": "p1wsozyDG_R7",
        "outputId": "45e0520f-1eda-449f-c90b-1c1ef3cbff19"
      },
      "execution_count": 5,
      "outputs": [
        {
          "output_type": "stream",
          "name": "stdout",
          "text": [
            "Read 7178576 spots for SRR390728/SRR390728.sra\n",
            "Written 6649544 spots for SRR390728/SRR390728.sra\n"
          ]
        }
      ]
    },
    {
      "cell_type": "code",
      "source": [
        "!ls fastq/"
      ],
      "metadata": {
        "colab": {
          "base_uri": "https://localhost:8080/"
        },
        "id": "xpJrIkm8KKZS",
        "outputId": "e1b79662-b975-4cc7-c1ad-763b11bd0a4a"
      },
      "execution_count": 6,
      "outputs": [
        {
          "output_type": "stream",
          "name": "stdout",
          "text": [
            "SRR390728_pass_1.fastq.gz  SRR390728_pass_2.fastq.gz\n"
          ]
        }
      ]
    },
    {
      "cell_type": "code",
      "source": [
        "!gzip -d fastq/SRR390728_pass_1.fastq.gz"
      ],
      "metadata": {
        "id": "hA-QXDlqPnkw"
      },
      "execution_count": 7,
      "outputs": []
    },
    {
      "cell_type": "code",
      "source": [
        "!ls fastq/"
      ],
      "metadata": {
        "colab": {
          "base_uri": "https://localhost:8080/"
        },
        "id": "jspz2rJiP3UF",
        "outputId": "35f86f0f-e9e6-49ea-9b7d-e1674710282d"
      },
      "execution_count": null,
      "outputs": [
        {
          "output_type": "stream",
          "name": "stdout",
          "text": [
            "SRR390728_pass_1.fastq\tSRR390728_pass_2.fastq.gz\n"
          ]
        }
      ]
    },
    {
      "cell_type": "code",
      "source": [
        "!pip install biopython"
      ],
      "metadata": {
        "colab": {
          "base_uri": "https://localhost:8080/"
        },
        "id": "ulL5yE6ZQ9kc",
        "outputId": "c751ef1b-352f-4e6e-8dfa-f8bda224ff86"
      },
      "execution_count": 8,
      "outputs": [
        {
          "output_type": "stream",
          "name": "stdout",
          "text": [
            "Collecting biopython\n",
            "  Downloading biopython-1.81-cp310-cp310-manylinux_2_17_x86_64.manylinux2014_x86_64.whl (3.1 MB)\n",
            "\u001b[2K     \u001b[90m━━━━━━━━━━━━━━━━━━━━━━━━━━━━━━━━━━━━━━━━\u001b[0m \u001b[32m3.1/3.1 MB\u001b[0m \u001b[31m9.9 MB/s\u001b[0m eta \u001b[36m0:00:00\u001b[0m\n",
            "\u001b[?25hRequirement already satisfied: numpy in /usr/local/lib/python3.10/dist-packages (from biopython) (1.23.5)\n",
            "Installing collected packages: biopython\n",
            "Successfully installed biopython-1.81\n"
          ]
        }
      ]
    },
    {
      "cell_type": "code",
      "source": [
        "# In above steps we have successfully downloaded fastq.gz file using SRA Toolkit and extracted it using gzip.\n",
        "# These are the steps:\n",
        "# 1. sudo apt install sra-toolkit\n",
        "# 2. prefetch SRR390728\n",
        "# 3. fastq-dump --outdir fastq --gzip --skip-technical  --readids --read-filter pass --dumpbase --split-3 --clip SRR390728/SRR390728.sra\n",
        "# 4. pip install biopython\n",
        "\n",
        "\n",
        "# here Bio means that Biopython library\n",
        "# It has SeqIO parser to read Fastq files\n",
        "from Bio import SeqIO\n",
        "\n",
        "sequence_count = 0\n",
        "sequence_length =0;\n",
        "# open file in read mode\n",
        "with open('fastq/SRR390728_pass_1.fastq', 'r') as fq_file:\n",
        "  # count records how many by increasing counter\n",
        "  # finding length of that sequence\n",
        "    for record in SeqIO.parse(fq_file, 'fastq'):\n",
        "        sequence_count = sequence_count+ 1\n",
        "        sequence_length = len(record.seq)\n",
        "\n",
        "print(f\"Number of sequences in Fastq file: {sequence_count}\")\n",
        "print(f\"Length of sequences in Fastq File: {sequence_length}\")\n"
      ],
      "metadata": {
        "colab": {
          "base_uri": "https://localhost:8080/"
        },
        "id": "2TEiZF5yQRmZ",
        "outputId": "96163246-22c3-47df-8842-f54dae01c2b5"
      },
      "execution_count": 9,
      "outputs": [
        {
          "output_type": "stream",
          "name": "stdout",
          "text": [
            "Number of sequences in Fastq file: 6649544\n",
            "Length of sequences in Fastq File: 36\n"
          ]
        }
      ]
    },
    {
      "cell_type": "code",
      "source": [
        "import matplotlib.pyplot as plt\n",
        "from Bio import SeqIO\n",
        "\n",
        "from collections import defaultdict\n",
        "\n",
        "# A nucleotide array to help them count\n",
        "nucleotide_symbols = ['A', 'T', 'G', 'C']\n",
        "position_counts = defaultdict(lambda: defaultdict(int))\n",
        "sequence_length = 0\n",
        "sequence_count = 0\n",
        "\n",
        "with open('fastq/SRR390728_pass_1.fastq', 'r') as fq_file:\n",
        "    for record in SeqIO.parse(fq_file, 'fastq'):\n",
        "      # counter to find percentage\n",
        "        sequence_count+=1\n",
        "        # if length is zero initially make it to length of sequence\n",
        "        if sequence_length ==0:\n",
        "\n",
        "            sequence_length = len(record.seq)\n",
        "            # make position count array default dictionary(it helps in various error conditions)\n",
        "            position_counts = defaultdict(lambda: defaultdict(int))\n",
        "\n",
        "            for i in range(1, sequence_length):\n",
        "                position_counts[i] = defaultdict(int)\n",
        "        # counting in position count matrix which store number of nucleotide per position i\n",
        "        # enumerate function calculate position as well as nucleotide at that position\n",
        "        # if that nucleotide is not A T G C then it will be counted in other nucleotide biased\n",
        "        for i, nucleotide in enumerate(record.seq):\n",
        "            if nucleotide not in nucleotide_symbols:\n",
        "                nucleotide = 'Other'\n",
        "                position_counts[i][nucleotide] += 1\n",
        "                continue\n",
        "\n",
        "            position_counts[i][nucleotide] += 1\n",
        "\n",
        "position_percentages = defaultdict(lambda: defaultdict(float))\n",
        "\n",
        "# n_other dictionary contain all nucleaotides including Other biased one\n",
        "n_other = nucleotide_symbols + ['Other']\n",
        "\n",
        "# for all nucleaotide calculate the percentages for all at each positions\n",
        "for position in range(sequence_length):\n",
        "    for nucleotide in n_other:\n",
        "        position_percentages[position][nucleotide] = (position_counts[position][nucleotide] / sequence_count)\n",
        "        position_percentages[position][nucleotide] *=100\n",
        "\n",
        "positions = range(sequence_length)\n",
        "\n",
        "print(\"The biases are shown in Others category, which means Data is somewhat manipulated for those positions with some random Variable and Not A, T, G, C\")\n",
        "\n",
        "for nucleotide in n_other:\n",
        "    nucleotide_percentages = []\n",
        "\n",
        "    # Iterate through each position and calculate the percentage of the specified nucleotide\n",
        "    for position in positions:\n",
        "        # find percentage of the that nucleotide at the current position\n",
        "        percentage = position_percentages[position][nucleotide]\n",
        "\n",
        "        # add into percentage array\n",
        "        nucleotide_percentages.append(percentage)\n",
        "    plt.plot(positions, nucleotide_percentages, label=nucleotide)\n",
        "\n",
        "\n",
        "\n",
        "plt.title('Nucleotide Percentage Across Positions')\n",
        "plt.xlabel('Position')\n",
        "plt.ylabel('Percentage (%)')\n",
        "plt.legend()\n",
        "plt.grid()\n",
        "plt.show()"
      ],
      "metadata": {
        "id": "KZiC7cEDTkx2",
        "colab": {
          "base_uri": "https://localhost:8080/",
          "height": 489
        },
        "outputId": "588a8f0c-eb73-4c7b-ff72-99205769b304"
      },
      "execution_count": 10,
      "outputs": [
        {
          "output_type": "stream",
          "name": "stdout",
          "text": [
            "The biases are shown in Others category, which means Data is somewhat manipulated for those positions with some random Variable and Not A, T, G, C\n"
          ]
        },
        {
          "output_type": "display_data",
          "data": {
            "text/plain": [
              "<Figure size 640x480 with 1 Axes>"
            ],
            "image/png": "[encoded data removed]"
          },
          "metadata": {}
        }
      ]
    },
    {
      "cell_type": "markdown",
      "source": [
        "Question 3 (5 points)\n",
        "Generate 100 random 1KB sequences (as if they are upstream of some genes, you can use real data from\n",
        "UCSC for some co-regulated genes as well). Plant a motif of length 10 after introducing 0, 1, 2 random\n",
        "mutations (uniformly distributed). Use Gibbs sampler to identify the motif locations and the consensus\n",
        "motif."
      ],
      "metadata": {
        "id": "EOWXKgI4Lcrb"
      }
    },
    {
      "cell_type": "code",
      "source": [
        "from random import randrange\n",
        "print(randrange(10))"
      ],
      "metadata": {
        "colab": {
          "base_uri": "https://localhost:8080/"
        },
        "id": "fxrvodIyZzsE",
        "outputId": "0d0eed38-aae2-4562-fb45-c62e81706297"
      },
      "execution_count": 11,
      "outputs": [
        {
          "output_type": "stream",
          "name": "stdout",
          "text": [
            "9\n"
          ]
        }
      ]
    },
    {
      "cell_type": "code",
      "source": [
        "nucleotides = ['A','T','G','C']\n",
        "\n",
        "seq_length = 10**4 # 10 thousand (10KB sequences)\n",
        "\n",
        "# generate random sequence of length 10,000\n",
        "\n",
        "num_sequences = 100\n",
        "sequences = []\n",
        "\n",
        "for i in range(num_sequences):\n",
        "    seq = \"\"\n",
        "    for j in range(seq_length):\n",
        "        seq += nucleotides[randrange(4)]\n",
        "    sequences.append(seq)\n",
        "\n",
        "print(\"Number of sequences : \",len(list(set(sequences))))\n",
        "# => all sequences are unique and random"
      ],
      "metadata": {
        "id": "Zb6aa822Le6D",
        "colab": {
          "base_uri": "https://localhost:8080/"
        },
        "outputId": "b111f249-4916-4301-fe75-111a9c723e13"
      },
      "execution_count": 12,
      "outputs": [
        {
          "output_type": "stream",
          "name": "stdout",
          "text": [
            "Number of sequences :  100\n"
          ]
        }
      ]
    },
    {
      "cell_type": "code",
      "source": [
        "print(len(sequences))\n",
        "print(len(set(sequences)))"
      ],
      "metadata": {
        "colab": {
          "base_uri": "https://localhost:8080/"
        },
        "id": "s3oHBZXVbTCa",
        "outputId": "9d881417-f4a5-496c-c298-269682b4fbd2"
      },
      "execution_count": 14,
      "outputs": [
        {
          "output_type": "stream",
          "name": "stdout",
          "text": [
            "100\n",
            "100\n"
          ]
        }
      ]
    },
    {
      "cell_type": "code",
      "source": [
        "def one_random_mutation(s):\n",
        "    pos_of_mutation = randrange(10)\n",
        "    base_of_mutation = nucleotides[randrange(4)]\n",
        "\n",
        "    list_s = list(s)\n",
        "    list_s[pos_of_mutation] = base_of_mutation\n",
        "\n",
        "    return \"\".join(list_s)\n",
        "\n",
        "def two_random_mutation(s):\n",
        "    pos1_of_mutation = randrange(10)\n",
        "    pos2_of_mutation = randrange(10)\n",
        "\n",
        "    base1_of_mutation = nucleotides[randrange(4)]\n",
        "    base2_of_mutation = nucleotides[randrange(4)]\n",
        "\n",
        "    list_s = list(s)\n",
        "    list_s[pos1_of_mutation] = base1_of_mutation\n",
        "    list_s[pos2_of_mutation] = base2_of_mutation\n",
        "\n",
        "    return \"\".join(list_s)"
      ],
      "metadata": {
        "id": "8X2n2oFTbhD6"
      },
      "execution_count": 13,
      "outputs": []
    },
    {
      "cell_type": "code",
      "source": [
        "# 10 length motif\n",
        "consensus_motif = \"AGCTACTAAC\"\n",
        "\n",
        "# 1 random mutation , 2 random mutation\n",
        "\n",
        "print(\"After one random mutation : \",one_random_mutation(consensus_motif))\n",
        "print(\"After one random mutation : \",one_random_mutation(consensus_motif))\n",
        "print(\"After two random mutation : \",two_random_mutation(consensus_motif))\n",
        "print(\"After two random mutation : \",two_random_mutation(consensus_motif))"
      ],
      "metadata": {
        "colab": {
          "base_uri": "https://localhost:8080/"
        },
        "id": "HZ0H0AIibW3B",
        "outputId": "a5d727d8-b064-4da2-f6f3-43b6bef2f113"
      },
      "execution_count": 15,
      "outputs": [
        {
          "output_type": "stream",
          "name": "stdout",
          "text": [
            "After one random mutation :  AGCTACAAAC\n",
            "After one random mutation :  AACTACTAAC\n",
            "After two random mutation :  AGTTACTAAC\n",
            "After two random mutation :  AGTTACTAAG\n"
          ]
        }
      ]
    },
    {
      "cell_type": "code",
      "source": [
        "# sequences after the planting of motif are store in this\n",
        "after_motif_planted_seqs = []\n",
        "\n",
        "# Just to store the answer of the motif locations\n",
        "actual_positions_of_motifs = []\n",
        "\n",
        "\n",
        "# Planting motif\n",
        "for i in range(len(sequences)):\n",
        "\n",
        "    # IMP : last where the motif can be planted is at 89 as length is 10\n",
        "    start_point_motif = randrange(9990)\n",
        "\n",
        "    actual_positions_of_motifs.append(start_point_motif)\n",
        "\n",
        "    list_seq = list(sequences[i])\n",
        "\n",
        "    # if mutation_to_choose = 0 , then 0 mutate and plant\n",
        "    # if 1 then one mutate and plant\n",
        "    # if 2 then two mutate and plant\n",
        "    mutation_to_choose = randrange(3)\n",
        "\n",
        "    if mutation_to_choose == 0:\n",
        "      list_seq[start_point_motif:start_point_motif+10] = consensus_motif\n",
        "    elif mutation_to_choose == 0:\n",
        "      list_seq[start_point_motif:start_point_motif+10] = one_random_mutation(consensus_motif)\n",
        "    else:\n",
        "      list_seq[start_point_motif:start_point_motif+10] = two_random_mutation(consensus_motif)\n",
        "\n",
        "    planted_seq = \"\".join(list_seq)\n",
        "\n",
        "    after_motif_planted_seqs.append(planted_seq)\n",
        "\n",
        "print(len(set(after_motif_planted_seqs)))\n",
        "print(actual_positions_of_motifs)"
      ],
      "metadata": {
        "colab": {
          "base_uri": "https://localhost:8080/"
        },
        "id": "nMhUloZ-e-3A",
        "outputId": "f01357c2-2be5-48d2-dd70-c039bcffc1dc"
      },
      "execution_count": 16,
      "outputs": [
        {
          "output_type": "stream",
          "name": "stdout",
          "text": [
            "100\n",
            "[9575, 5220, 8031, 1372, 4819, 2495, 2232, 8734, 5173, 9232, 2857, 9176, 8056, 6733, 3172, 3107, 4525, 7199, 9463, 5517, 4126, 1260, 2828, 8628, 2619, 1033, 7514, 5003, 9242, 5140, 397, 8496, 6706, 9463, 5254, 3447, 4036, 7781, 5790, 6897, 4110, 4946, 9720, 4929, 8112, 5049, 2761, 1046, 6475, 2880, 6396, 1504, 3451, 1784, 1485, 8653, 5468, 8861, 6674, 4568, 9752, 6735, 9227, 9929, 8374, 6163, 9325, 9512, 8069, 4472, 1504, 6645, 9327, 6525, 8786, 6400, 3630, 2302, 5159, 5027, 6498, 594, 8883, 7543, 5047, 9528, 7788, 846, 2, 1750, 9245, 8285, 9745, 6371, 8183, 1258, 2054, 9697, 3735, 1912]\n"
          ]
        }
      ]
    },
    {
      "cell_type": "markdown",
      "source": [
        "GIBBS SAMPLING ALGORITHM ON after_motif_planted_seqs"
      ],
      "metadata": {
        "id": "v35pQer-hrHf"
      }
    },
    {
      "cell_type": "code",
      "source": [
        "# STEP 1 : assign random start sights to the motifs in each sequence\n",
        "\n",
        "random_start_sights_motifs = []\n",
        "\n",
        "for i in range(100):\n",
        "    random_start_sights_motifs.append(randrange(9990))\n",
        "\n",
        "print(len(random_start_sights_motifs))\n",
        "print(random_start_sights_motifs)"
      ],
      "metadata": {
        "colab": {
          "base_uri": "https://localhost:8080/"
        },
        "id": "iU_lbwGyhy0n",
        "outputId": "46fd7015-3fb5-4044-8970-ee46efc09301"
      },
      "execution_count": 18,
      "outputs": [
        {
          "output_type": "stream",
          "name": "stdout",
          "text": [
            "100\n",
            "[1620, 3284, 4331, 826, 6074, 1645, 1055, 5965, 4064, 7461, 8992, 300, 3490, 620, 9805, 9802, 8246, 6704, 2433, 5364, 3080, 6443, 770, 2585, 8870, 5428, 4480, 1939, 210, 4611, 5736, 4164, 2680, 4020, 9703, 5938, 8136, 3429, 4602, 194, 3650, 9065, 6323, 1083, 6324, 4450, 6395, 9084, 5362, 9297, 6980, 6783, 2385, 3468, 2403, 1724, 924, 7437, 4838, 8894, 4673, 210, 1294, 2583, 2919, 6377, 8286, 2040, 1072, 4506, 2431, 6823, 2166, 7558, 6743, 8358, 7975, 5883, 7663, 1263, 9587, 8723, 5726, 8050, 3188, 3443, 5843, 3116, 3888, 9769, 2161, 7417, 9734, 1686, 5874, 3722, 5380, 6941, 3272, 4556]\n"
          ]
        }
      ]
    },
    {
      "cell_type": "markdown",
      "source": [
        "Functions for calculating hamming distance between motifs"
      ],
      "metadata": {
        "id": "Z9brJwsZ7iKe"
      }
    },
    {
      "cell_type": "code",
      "source": [
        "def hamming(s1,s2):\n",
        "    score = 0\n",
        "    if s1 == \"\" or s2 == \"\":\n",
        "        return 0\n",
        "    for i in range(len(s1)):\n",
        "        if s1[i] != s2[i]:\n",
        "          score +=1\n",
        "    return score\n",
        "\n",
        "def calculateHamming(after_motif_planted_seqs,random_start_sights_motifs):\n",
        "    # 100 motifs\n",
        "    current_motifs = []\n",
        "    for i in range(100):\n",
        "        s = random_start_sights_motifs[i]\n",
        "        current_motifs.append(after_motif_planted_seqs[i][s:s+10])\n",
        "    hamming_distance = 0\n",
        "    for i in range(len(current_motifs)):\n",
        "        for j in range(i+1,len(current_motifs)):\n",
        "            dist = hamming(current_motifs[i],current_motifs[j])\n",
        "            hamming_distance += dist\n",
        "\n",
        "    # avergae hamming\n",
        "    return hamming_distance/100"
      ],
      "metadata": {
        "id": "ybhxTkZs2RVo"
      },
      "execution_count": 19,
      "outputs": []
    },
    {
      "cell_type": "markdown",
      "source": [
        "build_profile_matrix prepares the profile matrix for each iteration using\n",
        "\n",
        "motif sequences in the current iteration"
      ],
      "metadata": {
        "id": "iojm5MP57TMr"
      }
    },
    {
      "cell_type": "code",
      "source": [
        "def print_profile_matrix(profile_matrix):\n",
        "     print(f\"Profile matrix at iteration {c} :-\")\n",
        "     for i in range(4):\n",
        "          for j in range(10):\n",
        "              print(profile_matrix[i][j],end = \" \")\n",
        "          print()"
      ],
      "metadata": {
        "id": "faxpil8g63Bm"
      },
      "execution_count": 20,
      "outputs": []
    },
    {
      "cell_type": "code",
      "source": [
        "from random import randrange\n",
        "\n",
        "    # Profile matrix\n",
        "\n",
        "    # A T A G C T\n",
        "    # A G C T A C\n",
        "    # G T A C T T                      matrix size = 4 rows and 10 columns\n",
        "# A  2/3                               A : [0][i]\n",
        "# T                                    B : [1][i]\n",
        "# G                                    C : [2][i]\n",
        "# C                                    D : [3][i]\n",
        "\n",
        "# sequences : after_motif_planted_seqs\n",
        "random_start_sights_motifs = []\n",
        "\n",
        "for i in range(100):\n",
        "    random_start_sights_motifs.append(randrange(9990))\n",
        "\n",
        "num_iterations = 10\n",
        "c = 1\n",
        "\n",
        "original_random_start_copy = random_start_sights_motifs.copy()\n",
        "\n",
        "while c <= num_iterations:\n",
        "    print(\"ITERATION NO. : \",c)\n",
        "\n",
        "    profile_matrix = [[1e-10] * 10 for _ in range(4)]\n",
        "\n",
        "    # STEP 2 : At random select a sequence from the given 't' sequences and\n",
        "    # make a profile matrix out of the other 't-1' sequences\n",
        "    random_selected = randrange(100)\n",
        "    # print(\"selected sequence of 100 : \",random_selected)\n",
        "    selected_seq = after_motif_planted_seqs[random_selected]\n",
        "\n",
        "    # current motifs are the motif sequence of 100 sequences\n",
        "    #in accordance with the current start\n",
        "    # positions of the motifs\n",
        "    current_motifs = []\n",
        "\n",
        "    for i in range(100):\n",
        "        if i == random_selected:\n",
        "           continue\n",
        "        # i in the sequnence we want to extract the current motif\n",
        "        si = random_start_sights_motifs[i]\n",
        "        current_motifs.append(after_motif_planted_seqs[i][si:si+10])\n",
        "\n",
        "    current_motifs = [s for s in current_motifs if s.strip()]\n",
        "    # create a profile for these 100 motifs of length 10\n",
        "    # print_profile_matrix(profile_matrix)\n",
        "    k = 0\n",
        "    while(k < 10):\n",
        "      for i in range(len(current_motifs)):\n",
        "        # this is the ith position\n",
        "        if(current_motifs[i][k] == 'A'):\n",
        "            profile_matrix[0][k] += 1\n",
        "        elif current_motifs[i][k] == 'T':\n",
        "            profile_matrix[1][k] += 1\n",
        "        elif current_motifs[i][k] == 'G':\n",
        "            profile_matrix[2][k] += 1\n",
        "        elif current_motifs[i][k] == 'C':\n",
        "            profile_matrix[3][k] += 1\n",
        "      k+=1\n",
        "    # divide all of the values in the matrix by 100 to create probabilities\n",
        "    for i in range(4):\n",
        "        for j in range(10):\n",
        "           profile_matrix[i][j] /= 100\n",
        "\n",
        "    # print_profile_matrix(profile_matrix)\n",
        "\n",
        "    # Now use the profile for the t-th sequence probablities\n",
        "    # This contains probabilities of all the l-mers from the selected sequence\n",
        "    # key is the start pos of lmer and value is the probability\n",
        "\n",
        "    probabilities_lmers = {}\n",
        "\n",
        "    k = 0\n",
        "    while(k <= 9990):\n",
        "      lmer = selected_seq[k:k+10]\n",
        "      prob = 1\n",
        "      for i in range(len(lmer)):\n",
        "          if lmer[i] == 'A':\n",
        "              prob = prob*profile_matrix[0][i]\n",
        "          elif lmer[i] == 'T':\n",
        "              prob = prob*profile_matrix[1][i]\n",
        "          elif lmer[i] == 'G':\n",
        "              prob = prob*profile_matrix[2][i]\n",
        "          elif lmer[i] == 'C':\n",
        "              prob = prob*profile_matrix[3][i]\n",
        "      k+=10\n",
        "      probabilities_lmers[k] = prob\n",
        "\n",
        "    # find the lowest prob and dividing all by this\n",
        "    lowest_prob = min(probabilities_lmers.values())\n",
        "    sum_prob = sum(probabilities_lmers.values())\n",
        "\n",
        "    for start,prob in probabilities_lmers.items():\n",
        "        probabilities_lmers[start] /= lowest_prob\n",
        "        probabilities_lmers[start] /= sum_prob\n",
        "\n",
        "    # now select the max prob from the prob_dist\n",
        "    # index of the max value\n",
        "    max_prob_start_loc = max(probabilities_lmers, key=lambda k: probabilities_lmers[k])\n",
        "\n",
        "    # Now update the start sight of the random selected seq to the\n",
        "    # index value in the sequence with max\n",
        "\n",
        "    print(f\"start loc of index no. {random_selected} changed to {max_prob_start_loc} from {random_start_sights_motifs[random_selected]}\")\n",
        "\n",
        "    print(f\"motif original start postitions:-\")\n",
        "    print(original_random_start_copy)\n",
        "\n",
        "    before = random_start_sights_motifs\n",
        "    random_start_sights_motifs[random_selected] = max_prob_start_loc\n",
        "\n",
        "    print(f\"start positions after iteration {c} :-\")\n",
        "    print(random_start_sights_motifs)\n",
        "\n",
        "    diff = [x - y for x, y in zip(original_random_start_copy,before)]\n",
        "    count_of_zeroes = diff.count(0)\n",
        "    print(f\"count of zero score at iteration {c} : {count_of_zeroes}\")\n",
        "    # hypothesis is these zeroes should reduce with iterations\n",
        "\n",
        "    # calculate score\n",
        "    # score I have defined as sum of hamming distance b/w motifs should be minimum\n",
        "    score = calculateHamming(after_motif_planted_seqs,random_start_sights_motifs)\n",
        "    print(f\"score at iteration {c} is : {score}\")\n",
        "\n",
        "    print()\n",
        "    print()\n",
        "\n",
        "    c+=1"
      ],
      "metadata": {
        "id": "GpDtW2AZioAF",
        "colab": {
          "base_uri": "https://localhost:8080/"
        },
        "outputId": "35484c89-0d65-4926-f5c5-f8130092e68d"
      },
      "execution_count": 22,
      "outputs": [
        {
          "output_type": "stream",
          "name": "stdout",
          "text": [
            "ITERATION NO. :  1\n",
            "start loc of index no. 88 changed to 4800 from 3067\n",
            "motif original start postitions:-\n",
            "[3934, 7588, 2068, 9292, 9843, 831, 5300, 5723, 265, 8061, 9980, 8002, 7307, 7759, 8499, 7067, 9277, 8349, 5514, 6830, 1097, 9498, 1481, 922, 8161, 1138, 5787, 1656, 213, 8238, 2054, 2128, 3163, 8340, 9302, 5367, 4586, 9310, 3744, 1294, 45, 9445, 1559, 5572, 9264, 8655, 8308, 2687, 6441, 4365, 414, 947, 6561, 894, 1715, 3851, 4913, 8281, 8339, 7649, 568, 8966, 1049, 7893, 8826, 8500, 9830, 655, 5696, 3926, 6431, 6950, 6413, 5558, 8591, 9289, 565, 5143, 735, 7092, 4471, 9657, 1442, 8082, 9926, 3548, 2143, 495, 3067, 5494, 1610, 3173, 3411, 9421, 9117, 9791, 3389, 5376, 4589, 6668]\n",
            "start positions after iteration 1 :-\n",
            "[3934, 7588, 2068, 9292, 9843, 831, 5300, 5723, 265, 8061, 9980, 8002, 7307, 7759, 8499, 7067, 9277, 8349, 5514, 6830, 1097, 9498, 1481, 922, 8161, 1138, 5787, 1656, 213, 8238, 2054, 2128, 3163, 8340, 9302, 5367, 4586, 9310, 3744, 1294, 45, 9445, 1559, 5572, 9264, 8655, 8308, 2687, 6441, 4365, 414, 947, 6561, 894, 1715, 3851, 4913, 8281, 8339, 7649, 568, 8966, 1049, 7893, 8826, 8500, 9830, 655, 5696, 3926, 6431, 6950, 6413, 5558, 8591, 9289, 565, 5143, 735, 7092, 4471, 9657, 1442, 8082, 9926, 3548, 2143, 495, 4800, 5494, 1610, 3173, 3411, 9421, 9117, 9791, 3389, 5376, 4589, 6668]\n",
            "count of zero score at iteration 1 : 99\n",
            "score at iteration 1 is : 371.91\n",
            "\n",
            "\n",
            "ITERATION NO. :  2\n",
            "start loc of index no. 84 changed to 2540 from 9926\n",
            "motif original start postitions:-\n",
            "[3934, 7588, 2068, 9292, 9843, 831, 5300, 5723, 265, 8061, 9980, 8002, 7307, 7759, 8499, 7067, 9277, 8349, 5514, 6830, 1097, 9498, 1481, 922, 8161, 1138, 5787, 1656, 213, 8238, 2054, 2128, 3163, 8340, 9302, 5367, 4586, 9310, 3744, 1294, 45, 9445, 1559, 5572, 9264, 8655, 8308, 2687, 6441, 4365, 414, 947, 6561, 894, 1715, 3851, 4913, 8281, 8339, 7649, 568, 8966, 1049, 7893, 8826, 8500, 9830, 655, 5696, 3926, 6431, 6950, 6413, 5558, 8591, 9289, 565, 5143, 735, 7092, 4471, 9657, 1442, 8082, 9926, 3548, 2143, 495, 3067, 5494, 1610, 3173, 3411, 9421, 9117, 9791, 3389, 5376, 4589, 6668]\n",
            "start positions after iteration 2 :-\n",
            "[3934, 7588, 2068, 9292, 9843, 831, 5300, 5723, 265, 8061, 9980, 8002, 7307, 7759, 8499, 7067, 9277, 8349, 5514, 6830, 1097, 9498, 1481, 922, 8161, 1138, 5787, 1656, 213, 8238, 2054, 2128, 3163, 8340, 9302, 5367, 4586, 9310, 3744, 1294, 45, 9445, 1559, 5572, 9264, 8655, 8308, 2687, 6441, 4365, 414, 947, 6561, 894, 1715, 3851, 4913, 8281, 8339, 7649, 568, 8966, 1049, 7893, 8826, 8500, 9830, 655, 5696, 3926, 6431, 6950, 6413, 5558, 8591, 9289, 565, 5143, 735, 7092, 4471, 9657, 1442, 8082, 2540, 3548, 2143, 495, 4800, 5494, 1610, 3173, 3411, 9421, 9117, 9791, 3389, 5376, 4589, 6668]\n",
            "count of zero score at iteration 2 : 98\n",
            "score at iteration 2 is : 372.09\n",
            "\n",
            "\n",
            "ITERATION NO. :  3\n",
            "start loc of index no. 6 changed to 2530 from 5300\n",
            "motif original start postitions:-\n",
            "[3934, 7588, 2068, 9292, 9843, 831, 5300, 5723, 265, 8061, 9980, 8002, 7307, 7759, 8499, 7067, 9277, 8349, 5514, 6830, 1097, 9498, 1481, 922, 8161, 1138, 5787, 1656, 213, 8238, 2054, 2128, 3163, 8340, 9302, 5367, 4586, 9310, 3744, 1294, 45, 9445, 1559, 5572, 9264, 8655, 8308, 2687, 6441, 4365, 414, 947, 6561, 894, 1715, 3851, 4913, 8281, 8339, 7649, 568, 8966, 1049, 7893, 8826, 8500, 9830, 655, 5696, 3926, 6431, 6950, 6413, 5558, 8591, 9289, 565, 5143, 735, 7092, 4471, 9657, 1442, 8082, 9926, 3548, 2143, 495, 3067, 5494, 1610, 3173, 3411, 9421, 9117, 9791, 3389, 5376, 4589, 6668]\n",
            "start positions after iteration 3 :-\n",
            "[3934, 7588, 2068, 9292, 9843, 831, 2530, 5723, 265, 8061, 9980, 8002, 7307, 7759, 8499, 7067, 9277, 8349, 5514, 6830, 1097, 9498, 1481, 922, 8161, 1138, 5787, 1656, 213, 8238, 2054, 2128, 3163, 8340, 9302, 5367, 4586, 9310, 3744, 1294, 45, 9445, 1559, 5572, 9264, 8655, 8308, 2687, 6441, 4365, 414, 947, 6561, 894, 1715, 3851, 4913, 8281, 8339, 7649, 568, 8966, 1049, 7893, 8826, 8500, 9830, 655, 5696, 3926, 6431, 6950, 6413, 5558, 8591, 9289, 565, 5143, 735, 7092, 4471, 9657, 1442, 8082, 2540, 3548, 2143, 495, 4800, 5494, 1610, 3173, 3411, 9421, 9117, 9791, 3389, 5376, 4589, 6668]\n",
            "count of zero score at iteration 3 : 97\n",
            "score at iteration 3 is : 371.76\n",
            "\n",
            "\n",
            "ITERATION NO. :  4\n",
            "start loc of index no. 52 changed to 6160 from 6561\n",
            "motif original start postitions:-\n",
            "[3934, 7588, 2068, 9292, 9843, 831, 5300, 5723, 265, 8061, 9980, 8002, 7307, 7759, 8499, 7067, 9277, 8349, 5514, 6830, 1097, 9498, 1481, 922, 8161, 1138, 5787, 1656, 213, 8238, 2054, 2128, 3163, 8340, 9302, 5367, 4586, 9310, 3744, 1294, 45, 9445, 1559, 5572, 9264, 8655, 8308, 2687, 6441, 4365, 414, 947, 6561, 894, 1715, 3851, 4913, 8281, 8339, 7649, 568, 8966, 1049, 7893, 8826, 8500, 9830, 655, 5696, 3926, 6431, 6950, 6413, 5558, 8591, 9289, 565, 5143, 735, 7092, 4471, 9657, 1442, 8082, 9926, 3548, 2143, 495, 3067, 5494, 1610, 3173, 3411, 9421, 9117, 9791, 3389, 5376, 4589, 6668]\n",
            "start positions after iteration 4 :-\n",
            "[3934, 7588, 2068, 9292, 9843, 831, 2530, 5723, 265, 8061, 9980, 8002, 7307, 7759, 8499, 7067, 9277, 8349, 5514, 6830, 1097, 9498, 1481, 922, 8161, 1138, 5787, 1656, 213, 8238, 2054, 2128, 3163, 8340, 9302, 5367, 4586, 9310, 3744, 1294, 45, 9445, 1559, 5572, 9264, 8655, 8308, 2687, 6441, 4365, 414, 947, 6160, 894, 1715, 3851, 4913, 8281, 8339, 7649, 568, 8966, 1049, 7893, 8826, 8500, 9830, 655, 5696, 3926, 6431, 6950, 6413, 5558, 8591, 9289, 565, 5143, 735, 7092, 4471, 9657, 1442, 8082, 2540, 3548, 2143, 495, 4800, 5494, 1610, 3173, 3411, 9421, 9117, 9791, 3389, 5376, 4589, 6668]\n",
            "count of zero score at iteration 4 : 96\n",
            "score at iteration 4 is : 371.92\n",
            "\n",
            "\n",
            "ITERATION NO. :  5\n",
            "start loc of index no. 26 changed to 3070 from 5787\n",
            "motif original start postitions:-\n",
            "[3934, 7588, 2068, 9292, 9843, 831, 5300, 5723, 265, 8061, 9980, 8002, 7307, 7759, 8499, 7067, 9277, 8349, 5514, 6830, 1097, 9498, 1481, 922, 8161, 1138, 5787, 1656, 213, 8238, 2054, 2128, 3163, 8340, 9302, 5367, 4586, 9310, 3744, 1294, 45, 9445, 1559, 5572, 9264, 8655, 8308, 2687, 6441, 4365, 414, 947, 6561, 894, 1715, 3851, 4913, 8281, 8339, 7649, 568, 8966, 1049, 7893, 8826, 8500, 9830, 655, 5696, 3926, 6431, 6950, 6413, 5558, 8591, 9289, 565, 5143, 735, 7092, 4471, 9657, 1442, 8082, 9926, 3548, 2143, 495, 3067, 5494, 1610, 3173, 3411, 9421, 9117, 9791, 3389, 5376, 4589, 6668]\n",
            "start positions after iteration 5 :-\n",
            "[3934, 7588, 2068, 9292, 9843, 831, 2530, 5723, 265, 8061, 9980, 8002, 7307, 7759, 8499, 7067, 9277, 8349, 5514, 6830, 1097, 9498, 1481, 922, 8161, 1138, 3070, 1656, 213, 8238, 2054, 2128, 3163, 8340, 9302, 5367, 4586, 9310, 3744, 1294, 45, 9445, 1559, 5572, 9264, 8655, 8308, 2687, 6441, 4365, 414, 947, 6160, 894, 1715, 3851, 4913, 8281, 8339, 7649, 568, 8966, 1049, 7893, 8826, 8500, 9830, 655, 5696, 3926, 6431, 6950, 6413, 5558, 8591, 9289, 565, 5143, 735, 7092, 4471, 9657, 1442, 8082, 2540, 3548, 2143, 495, 4800, 5494, 1610, 3173, 3411, 9421, 9117, 9791, 3389, 5376, 4589, 6668]\n",
            "count of zero score at iteration 5 : 95\n",
            "score at iteration 5 is : 371.82\n",
            "\n",
            "\n",
            "ITERATION NO. :  6\n",
            "start loc of index no. 4 changed to 1310 from 9843\n",
            "motif original start postitions:-\n",
            "[3934, 7588, 2068, 9292, 9843, 831, 5300, 5723, 265, 8061, 9980, 8002, 7307, 7759, 8499, 7067, 9277, 8349, 5514, 6830, 1097, 9498, 1481, 922, 8161, 1138, 5787, 1656, 213, 8238, 2054, 2128, 3163, 8340, 9302, 5367, 4586, 9310, 3744, 1294, 45, 9445, 1559, 5572, 9264, 8655, 8308, 2687, 6441, 4365, 414, 947, 6561, 894, 1715, 3851, 4913, 8281, 8339, 7649, 568, 8966, 1049, 7893, 8826, 8500, 9830, 655, 5696, 3926, 6431, 6950, 6413, 5558, 8591, 9289, 565, 5143, 735, 7092, 4471, 9657, 1442, 8082, 9926, 3548, 2143, 495, 3067, 5494, 1610, 3173, 3411, 9421, 9117, 9791, 3389, 5376, 4589, 6668]\n",
            "start positions after iteration 6 :-\n",
            "[3934, 7588, 2068, 9292, 1310, 831, 2530, 5723, 265, 8061, 9980, 8002, 7307, 7759, 8499, 7067, 9277, 8349, 5514, 6830, 1097, 9498, 1481, 922, 8161, 1138, 3070, 1656, 213, 8238, 2054, 2128, 3163, 8340, 9302, 5367, 4586, 9310, 3744, 1294, 45, 9445, 1559, 5572, 9264, 8655, 8308, 2687, 6441, 4365, 414, 947, 6160, 894, 1715, 3851, 4913, 8281, 8339, 7649, 568, 8966, 1049, 7893, 8826, 8500, 9830, 655, 5696, 3926, 6431, 6950, 6413, 5558, 8591, 9289, 565, 5143, 735, 7092, 4471, 9657, 1442, 8082, 2540, 3548, 2143, 495, 4800, 5494, 1610, 3173, 3411, 9421, 9117, 9791, 3389, 5376, 4589, 6668]\n",
            "count of zero score at iteration 6 : 94\n",
            "score at iteration 6 is : 372.04\n",
            "\n",
            "\n",
            "ITERATION NO. :  7\n",
            "start loc of index no. 96 changed to 1820 from 3389\n",
            "motif original start postitions:-\n",
            "[3934, 7588, 2068, 9292, 9843, 831, 5300, 5723, 265, 8061, 9980, 8002, 7307, 7759, 8499, 7067, 9277, 8349, 5514, 6830, 1097, 9498, 1481, 922, 8161, 1138, 5787, 1656, 213, 8238, 2054, 2128, 3163, 8340, 9302, 5367, 4586, 9310, 3744, 1294, 45, 9445, 1559, 5572, 9264, 8655, 8308, 2687, 6441, 4365, 414, 947, 6561, 894, 1715, 3851, 4913, 8281, 8339, 7649, 568, 8966, 1049, 7893, 8826, 8500, 9830, 655, 5696, 3926, 6431, 6950, 6413, 5558, 8591, 9289, 565, 5143, 735, 7092, 4471, 9657, 1442, 8082, 9926, 3548, 2143, 495, 3067, 5494, 1610, 3173, 3411, 9421, 9117, 9791, 3389, 5376, 4589, 6668]\n",
            "start positions after iteration 7 :-\n",
            "[3934, 7588, 2068, 9292, 1310, 831, 2530, 5723, 265, 8061, 9980, 8002, 7307, 7759, 8499, 7067, 9277, 8349, 5514, 6830, 1097, 9498, 1481, 922, 8161, 1138, 3070, 1656, 213, 8238, 2054, 2128, 3163, 8340, 9302, 5367, 4586, 9310, 3744, 1294, 45, 9445, 1559, 5572, 9264, 8655, 8308, 2687, 6441, 4365, 414, 947, 6160, 894, 1715, 3851, 4913, 8281, 8339, 7649, 568, 8966, 1049, 7893, 8826, 8500, 9830, 655, 5696, 3926, 6431, 6950, 6413, 5558, 8591, 9289, 565, 5143, 735, 7092, 4471, 9657, 1442, 8082, 2540, 3548, 2143, 495, 4800, 5494, 1610, 3173, 3411, 9421, 9117, 9791, 1820, 5376, 4589, 6668]\n",
            "count of zero score at iteration 7 : 93\n",
            "score at iteration 7 is : 371.69\n",
            "\n",
            "\n",
            "ITERATION NO. :  8\n",
            "start loc of index no. 8 changed to 2050 from 265\n",
            "motif original start postitions:-\n",
            "[3934, 7588, 2068, 9292, 9843, 831, 5300, 5723, 265, 8061, 9980, 8002, 7307, 7759, 8499, 7067, 9277, 8349, 5514, 6830, 1097, 9498, 1481, 922, 8161, 1138, 5787, 1656, 213, 8238, 2054, 2128, 3163, 8340, 9302, 5367, 4586, 9310, 3744, 1294, 45, 9445, 1559, 5572, 9264, 8655, 8308, 2687, 6441, 4365, 414, 947, 6561, 894, 1715, 3851, 4913, 8281, 8339, 7649, 568, 8966, 1049, 7893, 8826, 8500, 9830, 655, 5696, 3926, 6431, 6950, 6413, 5558, 8591, 9289, 565, 5143, 735, 7092, 4471, 9657, 1442, 8082, 9926, 3548, 2143, 495, 3067, 5494, 1610, 3173, 3411, 9421, 9117, 9791, 3389, 5376, 4589, 6668]\n",
            "start positions after iteration 8 :-\n",
            "[3934, 7588, 2068, 9292, 1310, 831, 2530, 5723, 2050, 8061, 9980, 8002, 7307, 7759, 8499, 7067, 9277, 8349, 5514, 6830, 1097, 9498, 1481, 922, 8161, 1138, 3070, 1656, 213, 8238, 2054, 2128, 3163, 8340, 9302, 5367, 4586, 9310, 3744, 1294, 45, 9445, 1559, 5572, 9264, 8655, 8308, 2687, 6441, 4365, 414, 947, 6160, 894, 1715, 3851, 4913, 8281, 8339, 7649, 568, 8966, 1049, 7893, 8826, 8500, 9830, 655, 5696, 3926, 6431, 6950, 6413, 5558, 8591, 9289, 565, 5143, 735, 7092, 4471, 9657, 1442, 8082, 2540, 3548, 2143, 495, 4800, 5494, 1610, 3173, 3411, 9421, 9117, 9791, 1820, 5376, 4589, 6668]\n",
            "count of zero score at iteration 8 : 92\n",
            "score at iteration 8 is : 371.68\n",
            "\n",
            "\n",
            "ITERATION NO. :  9\n",
            "start loc of index no. 78 changed to 270 from 735\n",
            "motif original start postitions:-\n",
            "[3934, 7588, 2068, 9292, 9843, 831, 5300, 5723, 265, 8061, 9980, 8002, 7307, 7759, 8499, 7067, 9277, 8349, 5514, 6830, 1097, 9498, 1481, 922, 8161, 1138, 5787, 1656, 213, 8238, 2054, 2128, 3163, 8340, 9302, 5367, 4586, 9310, 3744, 1294, 45, 9445, 1559, 5572, 9264, 8655, 8308, 2687, 6441, 4365, 414, 947, 6561, 894, 1715, 3851, 4913, 8281, 8339, 7649, 568, 8966, 1049, 7893, 8826, 8500, 9830, 655, 5696, 3926, 6431, 6950, 6413, 5558, 8591, 9289, 565, 5143, 735, 7092, 4471, 9657, 1442, 8082, 9926, 3548, 2143, 495, 3067, 5494, 1610, 3173, 3411, 9421, 9117, 9791, 3389, 5376, 4589, 6668]\n",
            "start positions after iteration 9 :-\n",
            "[3934, 7588, 2068, 9292, 1310, 831, 2530, 5723, 2050, 8061, 9980, 8002, 7307, 7759, 8499, 7067, 9277, 8349, 5514, 6830, 1097, 9498, 1481, 922, 8161, 1138, 3070, 1656, 213, 8238, 2054, 2128, 3163, 8340, 9302, 5367, 4586, 9310, 3744, 1294, 45, 9445, 1559, 5572, 9264, 8655, 8308, 2687, 6441, 4365, 414, 947, 6160, 894, 1715, 3851, 4913, 8281, 8339, 7649, 568, 8966, 1049, 7893, 8826, 8500, 9830, 655, 5696, 3926, 6431, 6950, 6413, 5558, 8591, 9289, 565, 5143, 270, 7092, 4471, 9657, 1442, 8082, 2540, 3548, 2143, 495, 4800, 5494, 1610, 3173, 3411, 9421, 9117, 9791, 1820, 5376, 4589, 6668]\n",
            "count of zero score at iteration 9 : 91\n",
            "score at iteration 9 is : 371.84\n",
            "\n",
            "\n",
            "ITERATION NO. :  10\n",
            "start loc of index no. 24 changed to 580 from 8161\n",
            "motif original start postitions:-\n",
            "[3934, 7588, 2068, 9292, 9843, 831, 5300, 5723, 265, 8061, 9980, 8002, 7307, 7759, 8499, 7067, 9277, 8349, 5514, 6830, 1097, 9498, 1481, 922, 8161, 1138, 5787, 1656, 213, 8238, 2054, 2128, 3163, 8340, 9302, 5367, 4586, 9310, 3744, 1294, 45, 9445, 1559, 5572, 9264, 8655, 8308, 2687, 6441, 4365, 414, 947, 6561, 894, 1715, 3851, 4913, 8281, 8339, 7649, 568, 8966, 1049, 7893, 8826, 8500, 9830, 655, 5696, 3926, 6431, 6950, 6413, 5558, 8591, 9289, 565, 5143, 735, 7092, 4471, 9657, 1442, 8082, 9926, 3548, 2143, 495, 3067, 5494, 1610, 3173, 3411, 9421, 9117, 9791, 3389, 5376, 4589, 6668]\n",
            "start positions after iteration 10 :-\n",
            "[3934, 7588, 2068, 9292, 1310, 831, 2530, 5723, 2050, 8061, 9980, 8002, 7307, 7759, 8499, 7067, 9277, 8349, 5514, 6830, 1097, 9498, 1481, 922, 580, 1138, 3070, 1656, 213, 8238, 2054, 2128, 3163, 8340, 9302, 5367, 4586, 9310, 3744, 1294, 45, 9445, 1559, 5572, 9264, 8655, 8308, 2687, 6441, 4365, 414, 947, 6160, 894, 1715, 3851, 4913, 8281, 8339, 7649, 568, 8966, 1049, 7893, 8826, 8500, 9830, 655, 5696, 3926, 6431, 6950, 6413, 5558, 8591, 9289, 565, 5143, 270, 7092, 4471, 9657, 1442, 8082, 2540, 3548, 2143, 495, 4800, 5494, 1610, 3173, 3411, 9421, 9117, 9791, 1820, 5376, 4589, 6668]\n",
            "count of zero score at iteration 10 : 90\n",
            "score at iteration 10 is : 371.82\n",
            "\n",
            "\n"
          ]
        }
      ]
    },
    {
      "cell_type": "code",
      "source": [
        "print(\"Actual locations :-\")\n",
        "print(actual_positions_of_motifs)\n",
        "print(\"After 1000 iterations :- \")\n",
        "print(random_start_sights_motifs)"
      ],
      "metadata": {
        "id": "WdJiGEN-8zjM",
        "colab": {
          "base_uri": "https://localhost:8080/"
        },
        "outputId": "ac305a51-a3c7-41cd-e1e3-ca29476c1ad7"
      },
      "execution_count": 23,
      "outputs": [
        {
          "output_type": "stream",
          "name": "stdout",
          "text": [
            "Actual locations :-\n",
            "[9575, 5220, 8031, 1372, 4819, 2495, 2232, 8734, 5173, 9232, 2857, 9176, 8056, 6733, 3172, 3107, 4525, 7199, 9463, 5517, 4126, 1260, 2828, 8628, 2619, 1033, 7514, 5003, 9242, 5140, 397, 8496, 6706, 9463, 5254, 3447, 4036, 7781, 5790, 6897, 4110, 4946, 9720, 4929, 8112, 5049, 2761, 1046, 6475, 2880, 6396, 1504, 3451, 1784, 1485, 8653, 5468, 8861, 6674, 4568, 9752, 6735, 9227, 9929, 8374, 6163, 9325, 9512, 8069, 4472, 1504, 6645, 9327, 6525, 8786, 6400, 3630, 2302, 5159, 5027, 6498, 594, 8883, 7543, 5047, 9528, 7788, 846, 2, 1750, 9245, 8285, 9745, 6371, 8183, 1258, 2054, 9697, 3735, 1912]\n",
            "After 1000 iterations :- \n",
            "[3934, 7588, 2068, 9292, 1310, 831, 2530, 5723, 2050, 8061, 9980, 8002, 7307, 7759, 8499, 7067, 9277, 8349, 5514, 6830, 1097, 9498, 1481, 922, 580, 1138, 3070, 1656, 213, 8238, 2054, 2128, 3163, 8340, 9302, 5367, 4586, 9310, 3744, 1294, 45, 9445, 1559, 5572, 9264, 8655, 8308, 2687, 6441, 4365, 414, 947, 6160, 894, 1715, 3851, 4913, 8281, 8339, 7649, 568, 8966, 1049, 7893, 8826, 8500, 9830, 655, 5696, 3926, 6431, 6950, 6413, 5558, 8591, 9289, 565, 5143, 270, 7092, 4471, 9657, 1442, 8082, 2540, 3548, 2143, 495, 4800, 5494, 1610, 3173, 3411, 9421, 9117, 9791, 1820, 5376, 4589, 6668]\n"
          ]
        }
      ]
    }
  ]
}